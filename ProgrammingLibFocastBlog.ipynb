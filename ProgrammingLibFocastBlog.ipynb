{
 "cells": [
  {
   "cell_type": "markdown",
   "id": "c739a89f",
   "metadata": {},
   "source": [
    "# Time series till it hurts"
   ]
  },
  {
   "cell_type": "markdown",
   "id": "4149b7ee",
   "metadata": {},
   "source": [
    "**Table of contents**\n",
    "- [Introduction:Business Problem](#introduction)\n",
    "- [Data](#data)\n",
    "- [Methodology](#methodology)\n",
    "- [Analysis](#analysis)\n",
    "- [Results](#results)\n",
    "- [Conclusion](#conclusion)\n",
    "- [References](#references)"
   ]
  },
  {
   "cell_type": "markdown",
   "id": "61c76753",
   "metadata": {},
   "source": [
    "- Talk about the need for time series\n",
    "- Difference between intapolation(regular regression) and \n",
    "\n",
    "extrapolation(time series)"
   ]
  },
  {
   "cell_type": "markdown",
   "id": "531cc3d0",
   "metadata": {},
   "source": [
    "## Introduction:Business Problem <a name=\"introduction\"></a>"
   ]
  },
  {
   "cell_type": "markdown",
   "id": "78423afd",
   "metadata": {},
   "source": [
    "As with all forms of software devoloment, there is a multitute of ways to achive the same task. Frameworks are used to streamline the procces of software development. The issue is for a new developer(or Data science) in choosing what framework to begin their development journey.  "
   ]
  },
  {
   "cell_type": "markdown",
   "id": "eb9430b9",
   "metadata": {},
   "source": [
    "This project wiii use time series analysis to help show the popularity of different frameworks within the data science dormain"
   ]
  },
  {
   "cell_type": "markdown",
   "id": "56953052",
   "metadata": {},
   "source": [
    "## Data <a name=\"data\"></a>"
   ]
  },
  {
   "cell_type": "markdown",
   "id": "64ff149e",
   "metadata": {},
   "source": [
    "We are using stack overflow data, on kaggle."
   ]
  },
  {
   "cell_type": "code",
   "execution_count": 1,
   "id": "06e6270d",
   "metadata": {},
   "outputs": [],
   "source": [
    "frameworks_to_forcast = ['nltk', 'stanford-nlp', 'python', 'r', 'numpy', 'scipy',\n",
    "       'pandas', 'pytorch', 'keras', 'nlp',\n",
    "       'hadoop', 'python-3.x', 'tensorflow',\n",
    "      'lstm', 'seaborn',\n",
    "      'plotly', 'scikit-learn', 'BeautifulSoup']"
   ]
  },
  {
   "cell_type": "markdown",
   "id": "29b98e06",
   "metadata": {},
   "source": [
    "Make sure the Index colum of the data set is a **datetime index**"
   ]
  },
  {
   "cell_type": "code",
   "execution_count": 9,
   "id": "d0a4e992",
   "metadata": {},
   "outputs": [],
   "source": [
    "#pd.to_datetime(df.index)"
   ]
  },
  {
   "cell_type": "markdown",
   "id": "5a6c4f99",
   "metadata": {},
   "source": [
    "We area going to have 3 models:\n",
    "- ARIMA\n",
    "- Auto ARIMA\n",
    "- FbProphet"
   ]
  },
  {
   "cell_type": "markdown",
   "id": "df1d2108",
   "metadata": {},
   "source": []
  },
  {
   "cell_type": "markdown",
   "id": "87def9d6",
   "metadata": {},
   "source": [
    "## Methodology <a name=\"methodology\"></a>"
   ]
  },
  {
   "cell_type": "markdown",
   "id": "99f209f1",
   "metadata": {},
   "source": [
    "1. user inputs a frame work \n",
    "2. user gets needs to choose method of evaluation\n",
    "    - ARIMA\n",
    "        Check stationarity(if True):\n",
    "            - Show Adfuller Result\n",
    "            - Plot the Correlation and AutoCorrelation Charts\n",
    "            - Construct ARIMA model based on data(user can choose p,I,q.)\n",
    "            - Graph Fitted model vs Original data\n",
    "            - Use the model to make predictions(1 year) and plot predictions\n",
    "        (If False):\n",
    "            Choose auto ARIMA\n",
    "    - auto ARIMA\n",
    "        - automate best params and fit model\n",
    "        - Show model residuals\n",
    "        - Use the model to make predictions(1 year) and plot predictions\n",
    "   \n",
    "    - FbProphet\n",
    "        - make appropriate DataFrame for prophet to make analysis\n",
    "        - Construct model and Use the model to make Forecast(1 year)\n",
    "        - plot forecast\n",
    "        - plot_components() , shows trend and seasonality"
   ]
  },
  {
   "cell_type": "markdown",
   "id": "23b81f69",
   "metadata": {},
   "source": [
    "## Analysis <a name=\"analysis\"></a>"
   ]
  },
  {
   "cell_type": "markdown",
   "id": "b3c70e65",
   "metadata": {},
   "source": [
    "**Imports for the project**"
   ]
  },
  {
   "cell_type": "code",
   "execution_count": 2,
   "id": "a8093768",
   "metadata": {},
   "outputs": [
    {
     "name": "stderr",
     "output_type": "stream",
     "text": [
      "2022-04-28 09:27:43.863 ERROR   prophet.plot: Importing plotly failed. Interactive plots will not work.\n"
     ]
    }
   ],
   "source": [
    "# auto arima #\n",
    "import pmdarima as pm\n",
    "\n",
    "# ARIMA model #\n",
    "from statsmodels.tsa.arima.model import ARIMA\n",
    "# auto corrolation and partial auto corrolation function #\n",
    "from statsmodels.graphics.tsaplots import plot_acf, plot_pacf\n",
    "# Formal test for checking stationarity #\n",
    "from statsmodels.tsa.stattools import adfuller\n",
    "\n",
    "# matplotlib for plotting #\n",
    "import matplotlib.pylab as matpy\n",
    "matpy.rcParams['figure.figsize'] = (11, 8)\n",
    "import matplotlib.pyplot as plt\n",
    "\n",
    "# pandas and numpy for data manipulation #\n",
    "import pandas as pd\n",
    "import numpy as np\n",
    "\n",
    "# for user interaction #\n",
    "import streamlit as st\n",
    "\n",
    "# Facebook Prophet  #\n",
    "from prophet import Prophet\n",
    "import warnings\n",
    "warnings.simplefilter(\"ignore\")"
   ]
  },
  {
   "cell_type": "markdown",
   "id": "da0914fd",
   "metadata": {},
   "source": [
    "**Functions used in the project** "
   ]
  },
  {
   "cell_type": "code",
   "execution_count": 3,
   "id": "acba356c",
   "metadata": {},
   "outputs": [],
   "source": [
    "# Quick way to do addfuller test #\n",
    "def quick_adfuller(data):\n",
    "    # as a default we say the time series is stationary\n",
    "    stationarity_value = True\n",
    "    dftest = adfuller(data, autolag='AIC')\n",
    "\n",
    "    st.write(\"1. ADF : \", dftest[0])\n",
    "    st.write(\"2. P-Value : \", dftest[1])\n",
    "    st.write(\"3. Num Of Lags : \", dftest[2])\n",
    "    st.write(\n",
    "        \"4. Num Of Observations Used For ADF Regression and Critical Values Calculation :\", dftest[3])\n",
    "    st.write(\"5. Critical Values :\")\n",
    "    for key, val in dftest[4].items():\n",
    "        st.write(\"\\t\", key, \": \", val)\n",
    "\n",
    "    if dftest[1] <= 0.05:\n",
    "        st.subheader(\"**Time series is stationary**\")\n",
    "        stationarity_value = True\n",
    "    else:\n",
    "        st.subheader(\"Time series is not stationary\")\n",
    "        stationarity_value = False\n",
    "\n",
    "    return stationarity_value\n",
    "\n",
    "# plotting auto corrolation function #\n",
    "def acf_plot(data):\n",
    "    # acf used for MA ie acf=q\n",
    "    fig = plot_acf(data.values)\n",
    "    plt.grid(True)\n",
    "    plt.xticks(np.arange(17))\n",
    "    st.pyplot(fig)\n",
    "\n",
    "# plotting partial auto corrolation function #\n",
    "def pacf_plot(data):\n",
    "    # pacf used for AR ie pacf=p\n",
    "    fig = plot_pacf(data.values)\n",
    "    plt.grid(True)\n",
    "    plt.xticks(np.arange(17))\n",
    "    st.pyplot(fig)\n",
    "\n",
    "    \n",
    "# Plot forecast for auto corolation function #\n",
    "def plot_arima_focast(train, test, forecast_series):\n",
    "    fig = plt.figure(figsize=(12, 5), dpi=100)\n",
    "\n",
    "    plt.plot(train, label='training')\n",
    "    plt.plot(test, label='actual')\n",
    "    plt.plot(forecast_series, label='forecast')\n",
    "    # plt.fill_between(lower_series.index, lower_series, upper_series,\n",
    "    #                  color='k', alpha=.15)\n",
    "    plt.title('Forecast vs Actuals')\n",
    "    plt.legend(loc='upper left', fontsize=8)\n",
    "    plt.grid()\n",
    "    st.pyplot(fig)\n",
    "\n",
    "\n",
    "# Facebook Prophet forecast plot #    \n",
    "def fbProphet_plot(model_obj, forecast_df):\n",
    "    fig = model_obj.plot(forecast_df)\n",
    "    st.pyplot(fig)\n",
    "\n",
    "# Facebook prophet shows tred and seasonality #\n",
    "def fbProphet_plot_components(model_obj, forecast_df):\n",
    "    fig = model_obj.plot_components(forecast_df)\n",
    "    st.pyplot(fig)\n",
    "\n",
    "    \n",
    "# plot auto arima residuals #\n",
    "def auto_ARIMA_risiduals(model_fitted):\n",
    "    fig = model_fitted.plot_diagnostics(figsize=(12, 8))\n",
    "    st.pyplot(fig)\n",
    "\n",
    "# Plot residual errors ARIMA #\n",
    "def plot_ARIMA_residuals(res):\n",
    "    fig, ax = plt.subplots(1, 2, figsize=(11, 1.5))\n",
    "    res.plot(title=\"Residuals\", ax=ax[0])\n",
    "    res.plot(kind=\"kde\", title=\"Density\", ax=ax[1])\n",
    "    st.pyplot(fig)\n"
   ]
  },
  {
   "cell_type": "code",
   "execution_count": 4,
   "id": "50c24150",
   "metadata": {},
   "outputs": [],
   "source": [
    "## Loading Data #\n",
    "#df = pd.read_csv(\"FrameworkData.csv\", index_col=[\"month\"])\n",
    "#df.index = pd.to_datetime(df.index, yearfirst=True)"
   ]
  },
  {
   "cell_type": "markdown",
   "id": "fa160e3b",
   "metadata": {},
   "source": [
    "## User Chooses ARIMA model"
   ]
  },
  {
   "cell_type": "markdown",
   "id": "4fae7fcf",
   "metadata": {},
   "source": [
    "**Check stationarity(if True):**"
   ]
  },
  {
   "cell_type": "markdown",
   "id": "ad6bafbe",
   "metadata": {},
   "source": [
    "We use The addfuller test to check if the time series is stationary.[1.link](https://www.statology.org/dickey-fuller-test-python/)\n"
   ]
  },
  {
   "cell_type": "markdown",
   "id": "7abad9eb",
   "metadata": {},
   "source": [
    "If time series is stationarity, p value must be **equal to** or **less than 0.05**"
   ]
  },
  {
   "cell_type": "markdown",
   "id": "d34976ab",
   "metadata": {},
   "source": [
    "- **Show Adfuller Result**\n"
   ]
  },
  {
   "cell_type": "code",
   "execution_count": 6,
   "id": "a6173f8a",
   "metadata": {},
   "outputs": [],
   "source": [
    "#stationarity = quick_adfuller(df[add_selectbox_framework])"
   ]
  },
  {
   "cell_type": "markdown",
   "id": "3f840304",
   "metadata": {},
   "source": [
    "- **Plot the Correlation and AutoCorrelation Charts**"
   ]
  },
  {
   "cell_type": "code",
   "execution_count": 8,
   "id": "7bbf7cbb",
   "metadata": {},
   "outputs": [],
   "source": [
    "acf_plot(df[add_selectbox_framework])\n",
    "pacf_plot(df[add_selectbox_framework])"
   ]
  },
  {
   "cell_type": "markdown",
   "id": "550b843f",
   "metadata": {},
   "source": [
    "The structure of an ARIMA model: **ARIMA(p,I,q)**"
   ]
  },
  {
   "cell_type": "markdown",
   "id": "bf1da088",
   "metadata": {},
   "source": [
    "We use **pacf** to obtain the **p value**. "
   ]
  },
  {
   "cell_type": "markdown",
   "id": "7fd65ff2",
   "metadata": {},
   "source": [
    "We use **acf** to obtain the **q value**."
   ]
  },
  {
   "cell_type": "markdown",
   "id": "4fa44758",
   "metadata": {},
   "source": [
    "Since the model is Sationary, **differencing=0(I=0)**.[2.link](https://predictivehacks.com/arima-model-in-python/)"
   ]
  },
  {
   "cell_type": "markdown",
   "id": "373ae6a6",
   "metadata": {},
   "source": [
    "- **Construct ARIMA model based on data(user can choose p,I,q.)**"
   ]
  },
  {
   "cell_type": "code",
   "execution_count": 10,
   "id": "b564b021",
   "metadata": {},
   "outputs": [],
   "source": [
    "# fitting arima model #\n",
    "arima_model = ARIMA(df[add_selectbox_framework], order=(p_value, 0, q_value))\n",
    "arima_fit = arima_model.fit()\n",
    "\n",
    "# put the fitted values into a DataFrame to be displayed #\n",
    "arima_df = pd.DataFrame(arima_fit.fittedvalues, index=df.index, columns=[\"fitted\"])\n",
    "\n",
    "# add the original values to the arima_fit_df dataframe #\n",
    "arima_df[\"Original figures\"] = df[add_selectbox_framework]"
   ]
  },
  {
   "cell_type": "code",
   "execution_count": null,
   "id": "c94a705a",
   "metadata": {},
   "outputs": [],
   "source": []
  },
  {
   "cell_type": "markdown",
   "id": "b8e2cbf3",
   "metadata": {},
   "source": [
    "- **Graph Fitted model vs Original data**"
   ]
  },
  {
   "cell_type": "code",
   "execution_count": 11,
   "id": "f7fa7d28",
   "metadata": {},
   "outputs": [],
   "source": [
    "st.subheader(\"Fitted and Original Graph\")\n",
    "st.line_chart(arima_df)"
   ]
  },
  {
   "cell_type": "markdown",
   "id": "829feccb",
   "metadata": {},
   "source": [
    "st means I am using the streamlit libriary.[3.link](https://docs.streamlit.io/library/api-reference)"
   ]
  },
  {
   "cell_type": "markdown",
   "id": "ef7ca003",
   "metadata": {},
   "source": [
    "- **Use the model to make predictions(1 year) and plot predictions and residuals**"
   ]
  },
  {
   "cell_type": "code",
   "execution_count": 12,
   "id": "4da26e27",
   "metadata": {},
   "outputs": [],
   "source": [
    "# 1 YEAR PREDICTION (we have 36 data entries.12 per year) #\n",
    "        train_val = df[add_selectbox_framework][:24]\n",
    "        test_val = df[add_selectbox_framework][24:]\n",
    "\n",
    "        with st.expander(\"Forecast\"):\n",
    "            # Build Model\n",
    "            model = ARIMA(train_val, order=(p_value, 0, q_value))\n",
    "            fitted = model.fit()\n",
    "\n",
    "            # Residuals #\n",
    "            residuals = pd.DataFrame(fitted.resid)\n",
    "\n",
    "            # Forecast\n",
    "            fc, se, conf = fitted.forecast(3, alpha=0.05)  # 95% conf\n",
    "\n",
    "            # # Make as pandas series\n",
    "            fc_series = pd.Series(fc, index=test_val.index)\n",
    "\n",
    "            # partitioning dataframes #\n",
    "            col_fc, col_res = st.columns(2)\n",
    "\n",
    "            with col_fc:\n",
    "                # display forcast as a series #\n",
    "                st.subheader(\"Forecast values\")\n",
    "                st.dataframe(fc_series)\n",
    "            with col_res:\n",
    "                # show residuals values #\n",
    "                st.subheader(\"Residual values\")\n",
    "                st.write(residuals)\n",
    "\n",
    "            # show residuals plot #\n",
    "            plot_ARIMA_residuals(residuals)\n",
    "\n",
    "            # show forecast plot #\n",
    "            plot_arima_focast(train_val, test_val, fc_series)"
   ]
  },
  {
   "cell_type": "markdown",
   "id": "975d9e47",
   "metadata": {},
   "source": [
    "**(If Stationarity is False):**  Choose auto ARIMA model"
   ]
  },
  {
   "cell_type": "markdown",
   "id": "700091fe",
   "metadata": {},
   "source": [
    "## User Chooses auto ARIMA model"
   ]
  },
  {
   "cell_type": "markdown",
   "id": "2e6e03c3",
   "metadata": {},
   "source": [
    "auto ARIMA is used in selecting the **best parameters** for the ARIMA model.\n",
    "We are using auto Arima in this case because since the time series is not stationary, **I!=0**.\n",
    "auto ARIMA accounts for the differencing factor."
   ]
  },
  {
   "cell_type": "markdown",
   "id": "d39085da",
   "metadata": {},
   "source": [
    "- **automate best params and fit model**"
   ]
  },
  {
   "cell_type": "code",
   "execution_count": 14,
   "id": "08957fc2",
   "metadata": {},
   "outputs": [],
   "source": [
    "# auto arima getting params #\n",
    "auto_model = pm.auto_arima(df[add_selectbox_framework].values, start_p=1, start_q=1,\n",
    "                           test='adf',       # use adftest to find optimal 'd'\n",
    "                           max_p=4, max_q=4,  # maximum p and q\n",
    "                           m=1,              # frequency of series\n",
    "                           d=None,           # let model determine 'd'\n",
    "                           seasonal=False,   # No Seasonality\n",
    "                           start_P=0,\n",
    "                           D=0,\n",
    "                           trace=True,\n",
    "                           error_action='ignore',\n",
    "                           suppress_warnings=True,\n",
    "                           stepwise=True)\n",
    "\n",
    "# display auto arima model summary #\n",
    "with st.expander(\"Best model\"):\n",
    "    st.subheader(\"Auto ARIMA summary\")\n",
    "    st.write(auto_model.summary())"
   ]
  },
  {
   "cell_type": "markdown",
   "id": "f6081106",
   "metadata": {},
   "source": [
    "This is Similar to hyperparameter tunning in classification model."
   ]
  },
  {
   "cell_type": "markdown",
   "id": "d81ee816",
   "metadata": {},
   "source": [
    "Fiiting model"
   ]
  },
  {
   "cell_type": "code",
   "execution_count": 15,
   "id": "d0df849e",
   "metadata": {},
   "outputs": [],
   "source": [
    "# train and test set #\n",
    "train_auto_arima = df[add_selectbox_framework][:33]\n",
    "test_auto_arima = df[add_selectbox_framework][33:]\n",
    "\n",
    "# auto_model.fit(train_auto_arima)"
   ]
  },
  {
   "cell_type": "code",
   "execution_count": null,
   "id": "47cc7ebc",
   "metadata": {},
   "outputs": [],
   "source": []
  },
  {
   "cell_type": "markdown",
   "id": "384a5cb5",
   "metadata": {},
   "source": [
    "- **Show model residuals**"
   ]
  },
  {
   "cell_type": "code",
   "execution_count": 17,
   "id": "42a6005e",
   "metadata": {},
   "outputs": [],
   "source": [
    "# show risiduals #\n",
    "with st.expander(\"Show model residuals\"):\n",
    "    st.subheader(\"Residuals\")\n",
    "    auto_ARIMA_risiduals(auto_model)"
   ]
  },
  {
   "cell_type": "code",
   "execution_count": null,
   "id": "44c26a6f",
   "metadata": {},
   "outputs": [],
   "source": []
  },
  {
   "cell_type": "markdown",
   "id": "525a498e",
   "metadata": {},
   "source": [
    "- **Use the model to make predictions(1 year) and plot predictions**"
   ]
  },
  {
   "cell_type": "code",
   "execution_count": 20,
   "id": "2814ee95",
   "metadata": {},
   "outputs": [],
   "source": [
    "# model forecast #\n",
    "with st.expander(\"forecast\"):\n",
    "    forecast_auto = auto_model.predict(len(df[add_selectbox_framework]))\n",
    "    forecast_auto = pd.DataFrame(forecast_auto, index=df.index,\n",
    "                                 columns=['Prediction'])\n",
    "\n",
    "    # add the original data to the forecast data #\n",
    "    forecast_auto[\"Original\"] = df[add_selectbox_framework]\n",
    "\n",
    "    col3, col4 = st.columns([2, 1])\n",
    "\n",
    "    col3.subheader(\"Forecast Graph\")\n",
    "    col3.line_chart(forecast_auto)\n",
    "\n",
    "    col4.subheader(\"Forecast DataFrame\")\n",
    "    col4.write(forecast_auto)"
   ]
  },
  {
   "cell_type": "markdown",
   "id": "09a2b9de",
   "metadata": {},
   "source": [
    "## User Chooses FbProphet model"
   ]
  },
  {
   "cell_type": "markdown",
   "id": "3acbbd9d",
   "metadata": {},
   "source": [
    "(talk about the structure etc)"
   ]
  },
  {
   "cell_type": "markdown",
   "id": "13c080b7",
   "metadata": {},
   "source": [
    "- **make appropriate DataFrame for prophet to make analysis**"
   ]
  },
  {
   "cell_type": "markdown",
   "id": "6f4b5644",
   "metadata": {},
   "source": [
    "(add picture) of example dataframe"
   ]
  },
  {
   "cell_type": "markdown",
   "id": "519682b3",
   "metadata": {},
   "source": [
    "- **Construct model and Use the model to make Forecast(1 year)**"
   ]
  },
  {
   "cell_type": "code",
   "execution_count": 21,
   "id": "d675700c",
   "metadata": {},
   "outputs": [],
   "source": [
    "# definning model #\n",
    "m = Prophet()\n",
    "model = m.fit(df_prophet)\n",
    "\n",
    "# make predicitons for the next 13 months #\n",
    "# 13 because our data starts at the begining of the month while fbProphet starts at the end of the month #\n",
    "future = m.make_future_dataframe(periods=13, freq='M')\n",
    "forecast = m.predict(future)\n",
    "\n",
    "# button to show forecast data #\n",
    "with st.expander(\"Show forecast\"):\n",
    "    st.subheader(\"Forecast DataFrame\")\n",
    "    st.write(forecast)"
   ]
  },
  {
   "cell_type": "markdown",
   "id": "96368de0",
   "metadata": {},
   "source": [
    "(add forecast dataframe)"
   ]
  },
  {
   "cell_type": "code",
   "execution_count": null,
   "id": "79003689",
   "metadata": {},
   "outputs": [],
   "source": []
  },
  {
   "cell_type": "markdown",
   "id": "7dda6288",
   "metadata": {},
   "source": [
    "- **plot forecast**"
   ]
  },
  {
   "cell_type": "code",
   "execution_count": 22,
   "id": "5eb8a6a2",
   "metadata": {},
   "outputs": [],
   "source": [
    "# button to plot forecast #\n",
    "with st.expander(\"Plot forecast\"):\n",
    "    # plot forecast #\n",
    "    st.subheader(\"Year Forecast\")\n",
    "    fbProphet_plot(m, forecast)"
   ]
  },
  {
   "cell_type": "markdown",
   "id": "d768daba",
   "metadata": {},
   "source": [
    "(add forecast plot)"
   ]
  },
  {
   "cell_type": "code",
   "execution_count": null,
   "id": "79a14389",
   "metadata": {},
   "outputs": [],
   "source": []
  },
  {
   "cell_type": "markdown",
   "id": "886adedf",
   "metadata": {},
   "source": [
    "- **plot_components() , shows trend and seasonality**"
   ]
  },
  {
   "cell_type": "code",
   "execution_count": 23,
   "id": "b9132d3a",
   "metadata": {},
   "outputs": [],
   "source": [
    "# button to plot Trend and Seasonality #\n",
    "with st.expander(\"Trend and Seasonality\"):\n",
    "    # show trend and seasonality #\n",
    "    st.subheader(\"Model Components\")\n",
    "    fbProphet_plot_components(m, forecast)"
   ]
  },
  {
   "cell_type": "markdown",
   "id": "f10791f3",
   "metadata": {},
   "source": [
    "(show trend and seasonality plot)"
   ]
  },
  {
   "cell_type": "markdown",
   "id": "0b6c9aa3",
   "metadata": {},
   "source": [
    "## Results <a name=\"results\"></a>"
   ]
  },
  {
   "cell_type": "markdown",
   "id": "74027c83",
   "metadata": {},
   "source": [
    "(add image of app)"
   ]
  },
  {
   "cell_type": "code",
   "execution_count": null,
   "id": "ecf25429",
   "metadata": {},
   "outputs": [],
   "source": []
  },
  {
   "cell_type": "code",
   "execution_count": null,
   "id": "de0d3c8d",
   "metadata": {},
   "outputs": [],
   "source": []
  },
  {
   "cell_type": "markdown",
   "id": "713ba210",
   "metadata": {},
   "source": [
    "## Conclusion <a name=\"conclusion\"></a>"
   ]
  },
  {
   "cell_type": "markdown",
   "id": "cd0260a5",
   "metadata": {},
   "source": [
    "We can observe that from the arima models, when we forcast we regress towards the mean."
   ]
  },
  {
   "cell_type": "markdown",
   "id": "832c9b5b",
   "metadata": {},
   "source": [
    "This is expected because arima doesnt count for seasonality within the time series and the data has too few samples.[4.link](https://stats.stackexchange.com/questions/333092/why-i-get-the-same-predict-value-in-arima-model)"
   ]
  },
  {
   "cell_type": "markdown",
   "id": "6ddffb00",
   "metadata": {},
   "source": [
    "An improvement would be to add a **SARIMA**(seasonal autoregressive integrated moving average)"
   ]
  },
  {
   "cell_type": "markdown",
   "id": "119a2cfe",
   "metadata": {},
   "source": [
    "The project could also show metric analysis and interactive plots using plotly"
   ]
  },
  {
   "cell_type": "markdown",
   "id": "91ff47ac",
   "metadata": {},
   "source": [
    "# References <a name=\"references\"></a>"
   ]
  },
  {
   "cell_type": "markdown",
   "id": "60380795",
   "metadata": {},
   "source": [
    "link3 -- https://facebook.github.io/prophet/docs/quick_start.html#python-api"
   ]
  },
  {
   "cell_type": "code",
   "execution_count": null,
   "id": "1f46e0b0",
   "metadata": {},
   "outputs": [],
   "source": []
  }
 ],
 "metadata": {
  "kernelspec": {
   "display_name": "Python 3",
   "language": "python",
   "name": "python3"
  },
  "language_info": {
   "codemirror_mode": {
    "name": "ipython",
    "version": 3
   },
   "file_extension": ".py",
   "mimetype": "text/x-python",
   "name": "python",
   "nbconvert_exporter": "python",
   "pygments_lexer": "ipython3",
   "version": "3.8.8"
  }
 },
 "nbformat": 4,
 "nbformat_minor": 5
}
